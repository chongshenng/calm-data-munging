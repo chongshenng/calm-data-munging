{
 "cells": [
  {
   "cell_type": "markdown",
   "metadata": {},
   "source": [
    "### Task\n",
    "Write a function that takes two Pandas dataframes as inputs and returns a single dataframe. The task order is:\n",
    "1. For each store_id, calculate the individual revenue percentage, called revenue_shares, of every product that makes up the store_id's total revenue.\n",
    "2. Sort the results by the store_id in ascending order and by the products revenue_shares in descending order.\n",
    "3. Reset the index of output dataframe to start with 0."
   ]
  },
  {
   "cell_type": "code",
   "execution_count": 1,
   "metadata": {},
   "outputs": [],
   "source": [
    "import pandas as pd"
   ]
  },
  {
   "cell_type": "code",
   "execution_count": 2,
   "metadata": {},
   "outputs": [],
   "source": [
    "# First create dummy dataset\n",
    "# Sales\n",
    "store_id = ['1','1','2','2','2']\n",
    "product_id = ['M1','M3','M2','M3','M4']\n",
    "units = [10,50,10,20,15]\n",
    "d = {\n",
    "    'store_id': pd.Series(store_id),\n",
    "    'product_id': pd.Series(product_id),\n",
    "    'units': pd.Series(units),\n",
    "    }\n",
    "sales = pd.DataFrame(d)\n",
    "\n",
    "# Price\n",
    "product_id = ['M1','M2','M3','M4','M5']\n",
    "gbp_price = [100,500,300,50,100]\n",
    "d = {\n",
    "    'product_id': pd.Series(product_id),\n",
    "    'gbp_price': pd.Series(gbp_price),\n",
    "    }\n",
    "price = pd.DataFrame(d)"
   ]
  },
  {
   "cell_type": "code",
   "execution_count": 3,
   "metadata": {},
   "outputs": [
    {
     "name": "stdout",
     "output_type": "stream",
     "text": [
      "  store_id product_id  units\n",
      "0        1         M1     10\n",
      "1        1         M3     50\n",
      "2        2         M2     10\n",
      "3        2         M3     20\n",
      "4        2         M4     15\n",
      "  product_id  gbp_price\n",
      "0         M1        100\n",
      "1         M2        500\n",
      "2         M3        300\n",
      "3         M4         50\n",
      "4         M5        100\n"
     ]
    },
    {
     "data": {
      "text/plain": [
       "(None, None)"
      ]
     },
     "execution_count": 3,
     "metadata": {},
     "output_type": "execute_result"
    }
   ],
   "source": [
    "print(sales), print(price)"
   ]
  },
  {
   "cell_type": "code",
   "execution_count": 4,
   "metadata": {},
   "outputs": [],
   "source": [
    "def calc_revenue_share(df_sales, df_price, rounding_pct=2):\n",
    "    \n",
    "    #-- First copy the sales dataframe, try deep copy\n",
    "    df_revenue_share = df_sales.copy()\n",
    "    \n",
    "    #-- Look up and create new indices for gbp_price and revenue_share\n",
    "    df_revenue_share['gbp_price'] = df_revenue_share['product_id'].map(df_price.set_index('product_id')['gbp_price'],na_action='ignore')\n",
    "    df_revenue_share['revenue'] = df_revenue_share.gbp_price * df_revenue_share.units\n",
    "    \n",
    "    \"\"\"\n",
    "      Compute percentages of revenue. For convenience, we will use 'transform'\n",
    "      since it returns a list with the same length as the original dataframe entry.\n",
    "    \n",
    "      Meaning of \"revenue_share.groupby('store_id')['revenue'].transform('sum')\":\n",
    "        Group the revenue_share dataframe by store_id and use the key ['revenue'].\n",
    "        Then apply the transformation ('sum').\n",
    "    \n",
    "      Ref:\n",
    "        1. https://stackoverflow.com/a/57359372\n",
    "        2. https://pbpython.com/pandas_transform.html\n",
    "    \"\"\"\n",
    "    df_revenue_share['revenue_share'] = 100 * df_revenue_share['revenue'] / df_revenue_share.groupby('store_id')['revenue'].transform('sum')\n",
    "\n",
    "    return df_revenue_share \\\n",
    "            .round({'revenue_share':rounding_pct}) \\\n",
    "            .sort_values(by=['store_id','revenue_share'],ascending=[True,False]) \\\n",
    "            .reset_index(drop=True)"
   ]
  },
  {
   "cell_type": "code",
   "execution_count": 5,
   "metadata": {},
   "outputs": [
    {
     "data": {
      "text/html": [
       "<div>\n",
       "<style scoped>\n",
       "    .dataframe tbody tr th:only-of-type {\n",
       "        vertical-align: middle;\n",
       "    }\n",
       "\n",
       "    .dataframe tbody tr th {\n",
       "        vertical-align: top;\n",
       "    }\n",
       "\n",
       "    .dataframe thead th {\n",
       "        text-align: right;\n",
       "    }\n",
       "</style>\n",
       "<table border=\"1\" class=\"dataframe\">\n",
       "  <thead>\n",
       "    <tr style=\"text-align: right;\">\n",
       "      <th></th>\n",
       "      <th>store_id</th>\n",
       "      <th>product_id</th>\n",
       "      <th>units</th>\n",
       "      <th>gbp_price</th>\n",
       "      <th>revenue</th>\n",
       "      <th>revenue_share</th>\n",
       "    </tr>\n",
       "  </thead>\n",
       "  <tbody>\n",
       "    <tr>\n",
       "      <th>0</th>\n",
       "      <td>1</td>\n",
       "      <td>M3</td>\n",
       "      <td>50</td>\n",
       "      <td>300</td>\n",
       "      <td>15000</td>\n",
       "      <td>93.75</td>\n",
       "    </tr>\n",
       "    <tr>\n",
       "      <th>1</th>\n",
       "      <td>1</td>\n",
       "      <td>M1</td>\n",
       "      <td>10</td>\n",
       "      <td>100</td>\n",
       "      <td>1000</td>\n",
       "      <td>6.25</td>\n",
       "    </tr>\n",
       "    <tr>\n",
       "      <th>2</th>\n",
       "      <td>2</td>\n",
       "      <td>M3</td>\n",
       "      <td>20</td>\n",
       "      <td>300</td>\n",
       "      <td>6000</td>\n",
       "      <td>51.06</td>\n",
       "    </tr>\n",
       "    <tr>\n",
       "      <th>3</th>\n",
       "      <td>2</td>\n",
       "      <td>M2</td>\n",
       "      <td>10</td>\n",
       "      <td>500</td>\n",
       "      <td>5000</td>\n",
       "      <td>42.55</td>\n",
       "    </tr>\n",
       "    <tr>\n",
       "      <th>4</th>\n",
       "      <td>2</td>\n",
       "      <td>M4</td>\n",
       "      <td>15</td>\n",
       "      <td>50</td>\n",
       "      <td>750</td>\n",
       "      <td>6.38</td>\n",
       "    </tr>\n",
       "  </tbody>\n",
       "</table>\n",
       "</div>"
      ],
      "text/plain": [
       "  store_id product_id  units  gbp_price  revenue  revenue_share\n",
       "0        1         M3     50        300    15000          93.75\n",
       "1        1         M1     10        100     1000           6.25\n",
       "2        2         M3     20        300     6000          51.06\n",
       "3        2         M2     10        500     5000          42.55\n",
       "4        2         M4     15         50      750           6.38"
      ]
     },
     "execution_count": 5,
     "metadata": {},
     "output_type": "execute_result"
    }
   ],
   "source": [
    "calc_revenue_share(sales,price)"
   ]
  },
  {
   "cell_type": "code",
   "execution_count": null,
   "metadata": {},
   "outputs": [],
   "source": []
  }
 ],
 "metadata": {
  "kernelspec": {
   "display_name": "Python 3",
   "language": "python",
   "name": "python3"
  },
  "language_info": {
   "codemirror_mode": {
    "name": "ipython",
    "version": 3
   },
   "file_extension": ".py",
   "mimetype": "text/x-python",
   "name": "python",
   "nbconvert_exporter": "python",
   "pygments_lexer": "ipython3",
   "version": "3.6.12"
  }
 },
 "nbformat": 4,
 "nbformat_minor": 4
}
